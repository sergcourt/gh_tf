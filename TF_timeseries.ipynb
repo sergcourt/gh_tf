{
  "nbformat": 4,
  "nbformat_minor": 0,
  "metadata": {
    "colab": {
      "name": "TF_timeseries.ipynb",
      "version": "0.3.2",
      "provenance": [],
      "collapsed_sections": []
    },
    "kernelspec": {
      "name": "python2",
      "display_name": "Python 2"
    }
  },
  "cells": [
    {
      "metadata": {
        "id": "e1p5rRTWPlWw",
        "colab_type": "code",
        "colab": {
          "base_uri": "https://localhost:8080/",
          "height": 3745
        },
        "outputId": "f513e197-6dd4-4fec-d2d9-04e0f5da3dc8"
      },
      "cell_type": "code",
      "source": [
        "!pip install datalab"
      ],
      "execution_count": 7,
      "outputs": [
        {
          "output_type": "stream",
          "text": [
            "Collecting datalab\n",
            "\u001b[?25l  Downloading https://files.pythonhosted.org/packages/9d/57/87da90dc6f629ff05a6d0ab2d3d567e4413b66cedf34d0750aa98a14966d/datalab-1.1.3.tar.gz (1.3MB)\n",
            "\u001b[K    100% |████████████████████████████████| 1.3MB 7.6MB/s \n",
            "\u001b[?25hRequirement already satisfied: configparser>=3.5.0 in /usr/local/lib/python2.7/dist-packages (from datalab) (3.5.0)\n",
            "Requirement already satisfied: mock>=2.0.0 in /usr/local/lib/python2.7/dist-packages (from datalab) (2.0.0)\n",
            "Requirement already satisfied: future>=0.16.0 in /usr/local/lib/python2.7/dist-packages (from datalab) (0.16.0)\n",
            "Requirement already satisfied: futures>=3.0.5 in /usr/local/lib/python2.7/dist-packages (from datalab) (3.2.0)\n",
            "Collecting google-cloud>=0.30.0 (from datalab)\n",
            "  Downloading https://files.pythonhosted.org/packages/d4/0f/3f089f7d090456f38ba82089fafef92614cb661c5d801b9d1e8885ea3b22/google-cloud-0.33.1.tar.gz\n",
            "Requirement already satisfied: google-api-python-client>=1.6.2 in /usr/local/lib/python2.7/dist-packages (from datalab) (1.6.7)\n",
            "Requirement already satisfied: seaborn>=0.7.0 in /usr/local/lib/python2.7/dist-packages (from datalab) (0.7.1)\n",
            "Requirement already satisfied: plotly>=1.12.5 in /usr/local/lib/python2.7/dist-packages (from datalab) (1.12.12)\n",
            "Requirement already satisfied: httplib2>=0.10.3 in /usr/local/lib/python2.7/dist-packages (from datalab) (0.11.3)\n",
            "Requirement already satisfied: oauth2client>=2.2.0 in /usr/local/lib/python2.7/dist-packages (from datalab) (4.1.2)\n",
            "Requirement already satisfied: pandas>=0.22.0 in /usr/local/lib/python2.7/dist-packages (from datalab) (0.22.0)\n",
            "Requirement already satisfied: google_auth_httplib2>=0.0.2 in /usr/local/lib/python2.7/dist-packages (from datalab) (0.0.3)\n",
            "Collecting pandas-profiling>=1.0.0a2 (from datalab)\n",
            "  Downloading https://files.pythonhosted.org/packages/a7/7c/84f15ee705793a3cdd43bc65e6166d65d36f743b815ea517b02582989533/pandas_profiling-1.4.1-py2.py3-none-any.whl\n",
            "Requirement already satisfied: python-dateutil>=2.5.0 in /usr/local/lib/python2.7/dist-packages (from datalab) (2.5.3)\n",
            "Requirement already satisfied: pytz>=2015.4 in /usr/local/lib/python2.7/dist-packages (from datalab) (2018.4)\n",
            "Requirement already satisfied: pyyaml>=3.11 in /usr/local/lib/python2.7/dist-packages (from datalab) (3.12)\n",
            "Requirement already satisfied: requests>=2.9.1 in /usr/local/lib/python2.7/dist-packages (from datalab) (2.18.4)\n",
            "Requirement already satisfied: scikit-image>=0.13.0 in /usr/local/lib/python2.7/dist-packages (from datalab) (0.13.1)\n",
            "Requirement already satisfied: scikit-learn>=0.18.2 in /usr/local/lib/python2.7/dist-packages (from datalab) (0.19.1)\n",
            "Requirement already satisfied: ipykernel>=4.5.2 in /usr/local/lib/python2.7/dist-packages (from datalab) (4.6.1)\n",
            "Requirement already satisfied: psutil>=4.3.0 in /usr/local/lib/python2.7/dist-packages (from datalab) (5.4.5)\n",
            "Requirement already satisfied: jsonschema>=2.6.0 in /usr/local/lib/python2.7/dist-packages (from datalab) (2.6.0)\n",
            "Collecting six==1.10.0 (from datalab)\n",
            "  Downloading https://files.pythonhosted.org/packages/c8/0a/b6723e1bc4c516cb687841499455a8505b44607ab535be01091c0f24f079/six-1.10.0-py2.py3-none-any.whl\n",
            "Requirement already satisfied: urllib3>=1.22 in /usr/local/lib/python2.7/dist-packages (from datalab) (1.22)\n",
            "Requirement already satisfied: funcsigs>=1; python_version < \"3.3\" in /usr/local/lib/python2.7/dist-packages (from mock>=2.0.0->datalab) (1.0.2)\n",
            "Requirement already satisfied: pbr>=0.11 in /usr/local/lib/python2.7/dist-packages (from mock>=2.0.0->datalab) (4.0.3)\n",
            "Collecting google-api-core<0.2.0dev,>=0.1.2 (from google-cloud>=0.30.0->datalab)\n",
            "\u001b[?25l  Downloading https://files.pythonhosted.org/packages/10/65/6237293db4fbf6f0bcf7c2b67c63e4dc4837c631f194064ae84957cd0313/google_api_core-0.1.4-py2.py3-none-any.whl (50kB)\n",
            "\u001b[K    100% |████████████████████████████████| 51kB 4.4MB/s \n",
            "\u001b[?25hCollecting google-cloud-bigquery<0.29dev,>=0.28.0 (from google-cloud>=0.30.0->datalab)\n",
            "\u001b[?25l  Downloading https://files.pythonhosted.org/packages/7c/f6/193729cb124770c710b9eab14f2fe2c3c7b285cc7b8cc70f48c162616e09/google_cloud_bigquery-0.28.0-py2.py3-none-any.whl (64kB)\n",
            "\u001b[K    100% |████████████████████████████████| 71kB 20.0MB/s \n",
            "\u001b[?25hCollecting google-cloud-bigquery-datatransfer<0.2dev,>=0.1.0 (from google-cloud>=0.30.0->datalab)\n",
            "  Downloading https://files.pythonhosted.org/packages/12/6b/636a8702adad77b38f3df951be3c846dfcd8c79854ed2d71654be5602ab8/google_cloud_bigquery_datatransfer-0.1.1-py2.py3-none-any.whl\n",
            "Collecting google-cloud-bigtable<0.29dev,>=0.28.1 (from google-cloud>=0.30.0->datalab)\n",
            "\u001b[?25l  Downloading https://files.pythonhosted.org/packages/03/38/97d17a7fefc8596d49be95b409f9476d5c31bd9fb00d9c243652b883099f/google_cloud_bigtable-0.28.1-py2.py3-none-any.whl (88kB)\n",
            "\u001b[K    100% |████████████████████████████████| 92kB 17.4MB/s \n",
            "\u001b[?25hCollecting google-cloud-container<0.2dev,>=0.1.0 (from google-cloud>=0.30.0->datalab)\n",
            "\u001b[?25l  Downloading https://files.pythonhosted.org/packages/fb/40/8e603a2acf6e1c81272f29cfaff2db60436545f8667b32853e58b160cb39/google_cloud_container-0.1.1-py2.py3-none-any.whl (50kB)\n",
            "\u001b[K    100% |████████████████████████████████| 51kB 14.9MB/s \n",
            "\u001b[?25hRequirement already satisfied: google-cloud-core<0.29dev,>=0.28.0 in /usr/local/lib/python2.7/dist-packages (from google-cloud>=0.30.0->datalab) (0.28.1)\n",
            "Collecting google-cloud-datastore<1.5dev,>=1.4.0 (from google-cloud>=0.30.0->datalab)\n",
            "\u001b[?25l  Downloading https://files.pythonhosted.org/packages/aa/bc/2cee1ac9cc70764845a6ff73e4e5dc50aef1225aac417461e1ef878ed38e/google_cloud_datastore-1.4.0-py2.py3-none-any.whl (44kB)\n",
            "\u001b[K    100% |████████████████████████████████| 51kB 19.4MB/s \n",
            "\u001b[?25hCollecting google-cloud-dns<0.29dev,>=0.28.0 (from google-cloud>=0.30.0->datalab)\n",
            "  Downloading https://files.pythonhosted.org/packages/57/16/0098588f04399897209d4e854e430db4c8bb540ec84b9431ec30c320ac7a/google_cloud_dns-0.28.0-py2.py3-none-any.whl\n",
            "Collecting google-cloud-error-reporting<0.29dev,>=0.28.0 (from google-cloud>=0.30.0->datalab)\n",
            "  Downloading https://files.pythonhosted.org/packages/4a/f3/4071bc943b48e70e41bfc56ed5ecbb5a7eddd8312f10c25a8834669ea20d/google_cloud_error_reporting-0.28.0-py2.py3-none-any.whl\n",
            "Collecting google-cloud-firestore<0.29dev,>=0.28.0 (from google-cloud>=0.30.0->datalab)\n"
          ],
          "name": "stdout"
        },
        {
          "output_type": "stream",
          "text": [
            "\u001b[?25l  Downloading https://files.pythonhosted.org/packages/d3/3c/6f25b101d5c2584bfb6db74d75b9a08094a9986623acd372336f72ccd084/google_cloud_firestore-0.28.0-py2.py3-none-any.whl (150kB)\n",
            "\u001b[K    100% |████████████████████████████████| 153kB 11.3MB/s \n",
            "\u001b[?25hRequirement already satisfied: google-cloud-language<1.1dev,>=1.0.0 in /usr/local/lib/python2.7/dist-packages (from google-cloud>=0.30.0->datalab) (1.0.2)\n",
            "Collecting google-cloud-logging<1.5dev,>=1.4.0 (from google-cloud>=0.30.0->datalab)\n",
            "\u001b[?25l  Downloading https://files.pythonhosted.org/packages/12/a6/c6f0fd13fbe70b007b105d42b1914e186dea60bc58628f694ae2b369d20b/google_cloud_logging-1.4.0-py2.py3-none-any.whl (43kB)\n",
            "\u001b[K    100% |████████████████████████████████| 51kB 19.5MB/s \n",
            "\u001b[?25hCollecting google-cloud-monitoring<0.29dev,>=0.28.0 (from google-cloud>=0.30.0->datalab)\n",
            "  Downloading https://files.pythonhosted.org/packages/68/99/67195b899d8e1189807130062ba68018533677879590673028671fe4c570/google_cloud_monitoring-0.28.1-py2.py3-none-any.whl\n",
            "Collecting google-cloud-pubsub<0.31dev,>=0.30.0 (from google-cloud>=0.30.0->datalab)\n",
            "\u001b[?25l  Downloading https://files.pythonhosted.org/packages/9b/a2/4e0576083986296d21c530738530bd9de4dcb0fd4728e963ad8ff7e1620f/google_cloud_pubsub-0.30.1-py2.py3-none-any.whl (88kB)\n",
            "\u001b[K    100% |████████████████████████████████| 92kB 18.8MB/s \n",
            "\u001b[?25hCollecting google-cloud-resource-manager<0.29dev,>=0.28.0 (from google-cloud>=0.30.0->datalab)\n",
            "  Downloading https://files.pythonhosted.org/packages/d6/bf/ed87e187c214154dd8a630c779dd103e9080026c9b046e9d0c52694f332c/google_cloud_resource_manager-0.28.1-py2.py3-none-any.whl\n",
            "Collecting google-cloud-runtimeconfig<0.29dev,>=0.28.0 (from google-cloud>=0.30.0->datalab)\n",
            "  Downloading https://files.pythonhosted.org/packages/df/fd/12949f877975e2583cd3cd192e73759a3ba5b4f59974a669eaecc6f375df/google_cloud_runtimeconfig-0.28.1-py2.py3-none-any.whl\n",
            "Collecting google-cloud-spanner<0.30dev,>=0.29.0 (from google-cloud>=0.30.0->datalab)\n",
            "\u001b[?25l  Downloading https://files.pythonhosted.org/packages/b3/3f/d1771299f1df521dd918830511f03d1df9ee27d5a2e20252811feed39060/google_cloud_spanner-0.29.0-py2.py3-none-any.whl (133kB)\n",
            "\u001b[K    100% |████████████████████████████████| 143kB 15.2MB/s \n",
            "\u001b[?25hCollecting google-cloud-speech<0.31dev,>=0.30.0 (from google-cloud>=0.30.0->datalab)\n",
            "\u001b[?25l  Downloading https://files.pythonhosted.org/packages/70/a5/f4722af1873e59e84ee1f6d28eb44cb697174f6ee4433a1cc89bd76f9890/google_cloud_speech-0.30.0-py2.py3-none-any.whl (42kB)\n",
            "\u001b[K    100% |████████████████████████████████| 51kB 18.8MB/s \n",
            "\u001b[?25hCollecting google-cloud-storage<1.7dev,>=1.6.0 (from google-cloud>=0.30.0->datalab)\n",
            "\u001b[?25l  Downloading https://files.pythonhosted.org/packages/c8/13/131c4d6b72411bcd56ab82a70a256d961e8d87e7b6356c12791c0003765d/google_cloud_storage-1.6.0-py2.py3-none-any.whl (51kB)\n",
            "\u001b[K    100% |████████████████████████████████| 61kB 20.7MB/s \n",
            "\u001b[?25hCollecting google-cloud-trace<0.18dev,>=0.17.0 (from google-cloud>=0.30.0->datalab)\n",
            "\u001b[?25l  Downloading https://files.pythonhosted.org/packages/a1/44/261efe8430c05509d7cadcb1bdd87745afb7a2d999f5fa41b0ee92ee6637/google_cloud_trace-0.17.0-py2.py3-none-any.whl (68kB)\n",
            "\u001b[K    100% |████████████████████████████████| 71kB 17.8MB/s \n",
            "\u001b[?25hRequirement already satisfied: google-cloud-translate<1.4dev,>=1.3.0 in /usr/local/lib/python2.7/dist-packages (from google-cloud>=0.30.0->datalab) (1.3.1)\n",
            "Collecting google-cloud-videointelligence<1.1dev,>=1.0.0 (from google-cloud>=0.30.0->datalab)\n",
            "\u001b[?25l  Downloading https://files.pythonhosted.org/packages/da/e4/57ffb1ef3fb003815789c684b3e7abd9f5df6f66471b08d5213bea6900d4/google_cloud_videointelligence-1.0.1-py2.py3-none-any.whl (57kB)\n",
            "\u001b[K    100% |████████████████████████████████| 61kB 18.7MB/s \n",
            "\u001b[?25hCollecting google-cloud-vision<0.30dev,>=0.29.0 (from google-cloud>=0.30.0->datalab)\n",
            "\u001b[?25l  Downloading https://files.pythonhosted.org/packages/db/56/49a9819835ef58b6547af22bb8d70677b24f3219eb47d35aa61428008474/google_cloud_vision-0.29.0-py2.py3-none-any.whl (71kB)\n",
            "\u001b[K    100% |████████████████████████████████| 81kB 23.6MB/s \n",
            "\u001b[?25hRequirement already satisfied: uritemplate<4dev,>=3.0.0 in /usr/local/lib/python2.7/dist-packages (from google-api-python-client>=1.6.2->datalab) (3.0.0)\n",
            "Requirement already satisfied: rsa>=3.1.4 in /usr/local/lib/python2.7/dist-packages (from oauth2client>=2.2.0->datalab) (3.4.2)\n",
            "Requirement already satisfied: pyasn1>=0.1.7 in /usr/local/lib/python2.7/dist-packages (from oauth2client>=2.2.0->datalab) (0.4.3)\n",
            "Requirement already satisfied: pyasn1-modules>=0.0.5 in /usr/local/lib/python2.7/dist-packages (from oauth2client>=2.2.0->datalab) (0.2.1)\n",
            "Requirement already satisfied: numpy>=1.9.0 in /usr/local/lib/python2.7/dist-packages (from pandas>=0.22.0->datalab) (1.14.3)\n",
            "Requirement already satisfied: google-auth in /usr/local/lib/python2.7/dist-packages (from google_auth_httplib2>=0.0.2->datalab) (1.4.2)\n",
            "Requirement already satisfied: jinja2>=2.8 in /usr/local/lib/python2.7/dist-packages (from pandas-profiling>=1.0.0a2->datalab) (2.10)\n",
            "Requirement already satisfied: matplotlib>=1.4 in /usr/local/lib/python2.7/dist-packages (from pandas-profiling>=1.0.0a2->datalab) (2.1.2)\n",
            "Requirement already satisfied: idna<2.7,>=2.5 in /usr/local/lib/python2.7/dist-packages (from requests>=2.9.1->datalab) (2.6)\n",
            "Requirement already satisfied: certifi>=2017.4.17 in /usr/local/lib/python2.7/dist-packages (from requests>=2.9.1->datalab) (2018.4.16)\n",
            "Requirement already satisfied: chardet<3.1.0,>=3.0.2 in /usr/local/lib/python2.7/dist-packages (from requests>=2.9.1->datalab) (3.0.4)\n",
            "Requirement already satisfied: PyWavelets>=0.4.0 in /usr/local/lib/python2.7/dist-packages (from scikit-image>=0.13.0->datalab) (0.5.2)\n",
            "Requirement already satisfied: scipy>=0.17.0 in /usr/local/lib/python2.7/dist-packages (from scikit-image>=0.13.0->datalab) (0.19.1)\n",
            "Requirement already satisfied: networkx>=1.8 in /usr/local/lib/python2.7/dist-packages (from scikit-image>=0.13.0->datalab) (2.1)\n",
            "Requirement already satisfied: pillow>=2.1.0 in /usr/local/lib/python2.7/dist-packages (from scikit-image>=0.13.0->datalab) (4.0.0)\n",
            "Requirement already satisfied: traitlets>=4.1.0 in /usr/local/lib/python2.7/dist-packages (from ipykernel>=4.5.2->datalab) (4.3.2)\n",
            "Requirement already satisfied: ipython>=4.0.0 in /usr/local/lib/python2.7/dist-packages (from ipykernel>=4.5.2->datalab) (5.5.0)\n",
            "Requirement already satisfied: jupyter-client in /usr/local/lib/python2.7/dist-packages (from ipykernel>=4.5.2->datalab) (5.2.3)\n",
            "Requirement already satisfied: tornado>=4.0 in /usr/local/lib/python2.7/dist-packages (from ipykernel>=4.5.2->datalab) (4.5.3)\n",
            "Requirement already satisfied: functools32; python_version == \"2.7\" in /usr/local/lib/python2.7/dist-packages (from jsonschema>=2.6.0->datalab) (3.2.3.post2)\n",
            "Requirement already satisfied: setuptools>=34.0.0 in /usr/local/lib/python2.7/dist-packages (from google-api-core<0.2.0dev,>=0.1.2->google-cloud>=0.30.0->datalab) (39.2.0)\n",
            "Requirement already satisfied: protobuf>=3.0.0 in /usr/local/lib/python2.7/dist-packages (from google-api-core<0.2.0dev,>=0.1.2->google-cloud>=0.30.0->datalab) (3.5.2.post1)\n",
            "Requirement already satisfied: googleapis-common-protos<2.0dev,>=1.5.3 in /usr/local/lib/python2.7/dist-packages (from google-api-core<0.2.0dev,>=0.1.2->google-cloud>=0.30.0->datalab) (1.5.3)\n",
            "Requirement already satisfied: google-resumable-media>=0.2.1 in /usr/local/lib/python2.7/dist-packages (from google-cloud-bigquery<0.29dev,>=0.28.0->google-cloud>=0.30.0->datalab) (0.3.1)\n",
            "Collecting google-gax<0.16dev,>=0.15.7 (from google-cloud-bigtable<0.29dev,>=0.28.1->google-cloud>=0.30.0->datalab)\n",
            "\u001b[?25l  Downloading https://files.pythonhosted.org/packages/4f/b4/ff312fa42f91535c67567c1d08e972db0e7c548e9a63c6f3bcc5213b32fc/google_gax-0.15.16-py2.py3-none-any.whl (46kB)\n",
            "\u001b[K    100% |████████████████████████████████| 51kB 18.9MB/s \n",
            "\u001b[?25hCollecting gapic-google-cloud-datastore-v1<0.16dev,>=0.15.0 (from google-cloud-datastore<1.5dev,>=1.4.0->google-cloud>=0.30.0->datalab)\n"
          ],
          "name": "stdout"
        },
        {
          "output_type": "stream",
          "text": [
            "  Downloading https://files.pythonhosted.org/packages/ec/9c/6d69a6e6551006c4e87192a396b983421a6978bc57657619bc998a264b31/gapic-google-cloud-datastore-v1-0.15.3.tar.gz\n",
            "Collecting gapic-google-cloud-error-reporting-v1beta1<0.16dev,>=0.15.0 (from google-cloud-error-reporting<0.29dev,>=0.28.0->google-cloud>=0.30.0->datalab)\n",
            "  Downloading https://files.pythonhosted.org/packages/03/fb/903f4cb88a442e05ec789329aef76da0d3f841a66909e9b5bc39527e0ef7/gapic-google-cloud-error-reporting-v1beta1-0.15.3.tar.gz\n",
            "Requirement already satisfied: enum34; python_version < \"3.4\" in /usr/local/lib/python2.7/dist-packages (from google-cloud-language<1.1dev,>=1.0.0->google-cloud>=0.30.0->datalab) (1.1.6)\n",
            "Collecting gapic-google-cloud-logging-v2<0.92dev,>=0.91.0 (from google-cloud-logging<1.5dev,>=1.4.0->google-cloud>=0.30.0->datalab)\n",
            "  Downloading https://files.pythonhosted.org/packages/aa/a8/2fcb30c255243d0b5b1a1c4b3cd0a73ca87c82f8a6673be60fb003a6e184/gapic-google-cloud-logging-v2-0.91.3.tar.gz\n",
            "Collecting grpc-google-iam-v1<0.12dev,>=0.11.1 (from google-cloud-pubsub<0.31dev,>=0.30.0->google-cloud>=0.30.0->datalab)\n",
            "  Downloading https://files.pythonhosted.org/packages/9b/28/f26f67381cb23e81271b8d66c00a846ad9d25a909ae1ae1df8222fad2744/grpc-google-iam-v1-0.11.4.tar.gz\n",
            "Requirement already satisfied: cachetools>=2.0.0 in /usr/local/lib/python2.7/dist-packages (from google-auth->google_auth_httplib2>=0.0.2->datalab) (2.1.0)\n",
            "Requirement already satisfied: MarkupSafe>=0.23 in /usr/local/lib/python2.7/dist-packages (from jinja2>=2.8->pandas-profiling>=1.0.0a2->datalab) (1.0)\n",
            "Requirement already satisfied: cycler>=0.10 in /usr/local/lib/python2.7/dist-packages (from matplotlib>=1.4->pandas-profiling>=1.0.0a2->datalab) (0.10.0)\n",
            "Requirement already satisfied: backports.functools-lru-cache in /usr/local/lib/python2.7/dist-packages (from matplotlib>=1.4->pandas-profiling>=1.0.0a2->datalab) (1.5)\n",
            "Requirement already satisfied: subprocess32 in /usr/local/lib/python2.7/dist-packages (from matplotlib>=1.4->pandas-profiling>=1.0.0a2->datalab) (3.5.0)\n",
            "Requirement already satisfied: pyparsing!=2.0.4,!=2.1.2,!=2.1.6,>=2.0.1 in /usr/local/lib/python2.7/dist-packages (from matplotlib>=1.4->pandas-profiling>=1.0.0a2->datalab) (2.2.0)\n",
            "Requirement already satisfied: decorator>=4.1.0 in /usr/local/lib/python2.7/dist-packages (from networkx>=1.8->scikit-image>=0.13.0->datalab) (4.3.0)\n",
            "Requirement already satisfied: olefile in /usr/local/lib/python2.7/dist-packages (from pillow>=2.1.0->scikit-image>=0.13.0->datalab) (0.45.1)\n",
            "Requirement already satisfied: ipython-genutils in /usr/local/lib/python2.7/dist-packages (from traitlets>=4.1.0->ipykernel>=4.5.2->datalab) (0.2.0)\n",
            "Requirement already satisfied: simplegeneric>0.8 in /usr/local/lib/python2.7/dist-packages (from ipython>=4.0.0->ipykernel>=4.5.2->datalab) (0.8.1)\n",
            "Requirement already satisfied: pickleshare in /usr/local/lib/python2.7/dist-packages (from ipython>=4.0.0->ipykernel>=4.5.2->datalab) (0.7.4)\n",
            "Requirement already satisfied: backports.shutil-get-terminal-size; python_version == \"2.7\" in /usr/local/lib/python2.7/dist-packages (from ipython>=4.0.0->ipykernel>=4.5.2->datalab) (1.0.0)\n",
            "Requirement already satisfied: pathlib2; python_version == \"2.7\" or python_version == \"3.3\" in /usr/local/lib/python2.7/dist-packages (from ipython>=4.0.0->ipykernel>=4.5.2->datalab) (2.3.2)\n",
            "Requirement already satisfied: pexpect; sys_platform != \"win32\" in /usr/local/lib/python2.7/dist-packages (from ipython>=4.0.0->ipykernel>=4.5.2->datalab) (4.6.0)\n",
            "Requirement already satisfied: pygments in /usr/local/lib/python2.7/dist-packages (from ipython>=4.0.0->ipykernel>=4.5.2->datalab) (2.1.3)\n",
            "Requirement already satisfied: prompt-toolkit<2.0.0,>=1.0.4 in /usr/local/lib/python2.7/dist-packages (from ipython>=4.0.0->ipykernel>=4.5.2->datalab) (1.0.15)\n",
            "Requirement already satisfied: pyzmq>=13 in /usr/local/lib/python2.7/dist-packages (from jupyter-client->ipykernel>=4.5.2->datalab) (16.0.4)\n",
            "Requirement already satisfied: jupyter-core in /usr/local/lib/python2.7/dist-packages (from jupyter-client->ipykernel>=4.5.2->datalab) (4.4.0)\n",
            "Requirement already satisfied: singledispatch in /usr/local/lib/python2.7/dist-packages (from tornado>=4.0->ipykernel>=4.5.2->datalab) (3.4.0.3)\n",
            "Requirement already satisfied: backports_abc>=0.4 in /usr/local/lib/python2.7/dist-packages (from tornado>=4.0->ipykernel>=4.5.2->datalab) (0.5)\n",
            "Collecting ply==3.8 (from google-gax<0.16dev,>=0.15.7->google-cloud-bigtable<0.29dev,>=0.28.1->google-cloud>=0.30.0->datalab)\n",
            "\u001b[?25l  Downloading https://files.pythonhosted.org/packages/96/e0/430fcdb6b3ef1ae534d231397bee7e9304be14a47a267e82ebcb3323d0b5/ply-3.8.tar.gz (157kB)\n",
            "\u001b[K    100% |████████████████████████████████| 163kB 14.2MB/s \n",
            "\u001b[?25hCollecting dill<0.3dev,>=0.2.5 (from google-gax<0.16dev,>=0.15.7->google-cloud-bigtable<0.29dev,>=0.28.1->google-cloud>=0.30.0->datalab)\n",
            "\u001b[?25l  Downloading https://files.pythonhosted.org/packages/91/a0/19d4d31dee064fc553ae01263b5c55e7fb93daff03a69debbedee647c5a0/dill-0.2.7.1.tar.gz (64kB)\n",
            "\u001b[K    100% |████████████████████████████████| 71kB 19.5MB/s \n",
            "\u001b[?25hRequirement already satisfied: grpcio<2.0dev,>=1.0.2 in /usr/local/lib/python2.7/dist-packages (from google-gax<0.16dev,>=0.15.7->google-cloud-bigtable<0.29dev,>=0.28.1->google-cloud>=0.30.0->datalab) (1.12.0)\n",
            "Collecting proto-google-cloud-datastore-v1[grpc]<0.91dev,>=0.90.3 (from gapic-google-cloud-datastore-v1<0.16dev,>=0.15.0->google-cloud-datastore<1.5dev,>=1.4.0->google-cloud>=0.30.0->datalab)\n",
            "  Downloading https://files.pythonhosted.org/packages/2a/1f/4124f15e1132a2eeeaf616d825990bb1d395b4c2c37362654ea5cd89bb42/proto-google-cloud-datastore-v1-0.90.4.tar.gz\n",
            "Collecting proto-google-cloud-error-reporting-v1beta1[grpc]<0.16dev,>=0.15.3 (from gapic-google-cloud-error-reporting-v1beta1<0.16dev,>=0.15.0->google-cloud-error-reporting<0.29dev,>=0.28.0->google-cloud>=0.30.0->datalab)\n",
            "  Downloading https://files.pythonhosted.org/packages/4c/a1/94790efc86414a127fdf2c1277530c789b458bdd4b120630d4d84ea04898/proto-google-cloud-error-reporting-v1beta1-0.15.3.tar.gz\n",
            "Collecting proto-google-cloud-logging-v2[grpc]<0.92dev,>=0.91.3 (from gapic-google-cloud-logging-v2<0.92dev,>=0.91.0->google-cloud-logging<1.5dev,>=1.4.0->google-cloud>=0.30.0->datalab)\n",
            "  Downloading https://files.pythonhosted.org/packages/36/cc/52c1b363b992546d4658a61eb551c85af94ad424734e6c899fdfc8330811/proto-google-cloud-logging-v2-0.91.3.tar.gz\n",
            "Requirement already satisfied: scandir; python_version < \"3.5\" in /usr/local/lib/python2.7/dist-packages (from pathlib2; python_version == \"2.7\" or python_version == \"3.3\"->ipython>=4.0.0->ipykernel>=4.5.2->datalab) (1.7)\n",
            "Requirement already satisfied: ptyprocess>=0.5 in /usr/local/lib/python2.7/dist-packages (from pexpect; sys_platform != \"win32\"->ipython>=4.0.0->ipykernel>=4.5.2->datalab) (0.5.2)\n",
            "Requirement already satisfied: wcwidth in /usr/local/lib/python2.7/dist-packages (from prompt-toolkit<2.0.0,>=1.0.4->ipython>=4.0.0->ipykernel>=4.5.2->datalab) (0.1.7)\n",
            "Building wheels for collected packages: datalab, google-cloud, gapic-google-cloud-datastore-v1, gapic-google-cloud-error-reporting-v1beta1, gapic-google-cloud-logging-v2, grpc-google-iam-v1, ply, dill, proto-google-cloud-datastore-v1, proto-google-cloud-error-reporting-v1beta1, proto-google-cloud-logging-v2\n",
            "  Running setup.py bdist_wheel for datalab ... \u001b[?25l-"
          ],
          "name": "stdout"
        },
        {
          "output_type": "stream",
          "text": [
            "\b \b\\\b \b|\b \b/\b \bdone\n",
            "\u001b[?25h  Stored in directory: /content/.cache/pip/wheels/50/e4/ef/c5903980a7c99c44d39e5d87f479cd551f2b40e6f6673ff174\n",
            "  Running setup.py bdist_wheel for google-cloud ... \u001b[?25l-\b \bdone\n",
            "\u001b[?25h  Stored in directory: /content/.cache/pip/wheels/bb/af/65/65627e63a36b731c9e0d2f69cf59ca79e2b7f6c29b4f923a2e\n",
            "  Running setup.py bdist_wheel for gapic-google-cloud-datastore-v1 ... \u001b[?25l-\b \bdone\n",
            "\u001b[?25h  Stored in directory: /content/.cache/pip/wheels/79/a9/0f/1b6929a5f1961d22553efa844ea60c589bffcf6e1bd019f7c9\n",
            "  Running setup.py bdist_wheel for gapic-google-cloud-error-reporting-v1beta1 ... \u001b[?25l-\b \bdone\n",
            "\u001b[?25h  Stored in directory: /content/.cache/pip/wheels/19/d9/9e/5d0f178712d65c20ef2e2573b4390f94864819fe0b29d91c8f\n",
            "  Running setup.py bdist_wheel for gapic-google-cloud-logging-v2 ... \u001b[?25l-\b \bdone\n",
            "\u001b[?25h  Stored in directory: /content/.cache/pip/wheels/67/f7/2c/c104c937201a0a2bba168ae7058ce7d10da96d881b504a1ae4\n",
            "  Running setup.py bdist_wheel for grpc-google-iam-v1 ... \u001b[?25l-\b \bdone\n",
            "\u001b[?25h  Stored in directory: /content/.cache/pip/wheels/b6/c6/31/c20321a5a3fde456fc375b7c2814135e6e98bc0d74c40239d9\n",
            "  Running setup.py bdist_wheel for ply ... \u001b[?25l-\b \bdone\n",
            "\u001b[?25h  Stored in directory: /content/.cache/pip/wheels/f2/21/c0/f0056cc96847933daa961a19eb59a2ecd0228fdbe3376e7a68\n",
            "  Running setup.py bdist_wheel for dill ... \u001b[?25l-\b \bdone\n",
            "\u001b[?25h  Stored in directory: /content/.cache/pip/wheels/99/c4/ed/1b64d2d5809e60d5a3685530432f6159d6a9959739facb61f2\n",
            "  Running setup.py bdist_wheel for proto-google-cloud-datastore-v1 ... \u001b[?25l-\b \bdone\n",
            "\u001b[?25h  Stored in directory: /content/.cache/pip/wheels/bd/ce/33/8b769968db3761c42c7a91d8a0dbbafc50acfa0750866c8abd\n",
            "  Running setup.py bdist_wheel for proto-google-cloud-error-reporting-v1beta1 ... \u001b[?25l-\b \bdone\n",
            "\u001b[?25h  Stored in directory: /content/.cache/pip/wheels/76/fc/f8/49959a924b1e0d76264f251ea9ab9d27e6b978acf02cd28bff\n",
            "  Running setup.py bdist_wheel for proto-google-cloud-logging-v2 ... \u001b[?25l-\b \bdone\n",
            "\u001b[?25h  Stored in directory: /content/.cache/pip/wheels/a2/63/53/2c822aa22c24d620ce09f799ff1b38cceaac1ae7698368b0d8\n",
            "Successfully built datalab google-cloud gapic-google-cloud-datastore-v1 gapic-google-cloud-error-reporting-v1beta1 gapic-google-cloud-logging-v2 grpc-google-iam-v1 ply dill proto-google-cloud-datastore-v1 proto-google-cloud-error-reporting-v1beta1 proto-google-cloud-logging-v2\n",
            "\u001b[31mgapic-google-cloud-logging-v2 0.91.3 has requirement oauth2client<4.0dev,>=2.0.0, but you'll have oauth2client 4.1.2 which is incompatible.\u001b[0m\n",
            "\u001b[31mgapic-google-cloud-datastore-v1 0.15.3 has requirement oauth2client<4.0dev,>=2.0.0, but you'll have oauth2client 4.1.2 which is incompatible.\u001b[0m\n",
            "\u001b[31mpandas-gbq 0.4.1 has requirement google-cloud-bigquery>=0.29.0, but you'll have google-cloud-bigquery 0.28.0 which is incompatible.\u001b[0m\n",
            "\u001b[31mproto-google-cloud-error-reporting-v1beta1 0.15.3 has requirement oauth2client<4.0dev,>=2.0.0, but you'll have oauth2client 4.1.2 which is incompatible.\u001b[0m\n",
            "\u001b[31mproto-google-cloud-logging-v2 0.91.3 has requirement oauth2client<4.0dev,>=2.0.0, but you'll have oauth2client 4.1.2 which is incompatible.\u001b[0m\n",
            "\u001b[31mgapic-google-cloud-error-reporting-v1beta1 0.15.3 has requirement oauth2client<4.0dev,>=2.0.0, but you'll have oauth2client 4.1.2 which is incompatible.\u001b[0m\n",
            "\u001b[31mproto-google-cloud-datastore-v1 0.90.4 has requirement oauth2client<4.0dev,>=2.0.0, but you'll have oauth2client 4.1.2 which is incompatible.\u001b[0m\n",
            "Installing collected packages: six, google-api-core, google-cloud-bigquery, google-cloud-bigquery-datatransfer, ply, dill, google-gax, google-cloud-bigtable, google-cloud-container, proto-google-cloud-datastore-v1, gapic-google-cloud-datastore-v1, google-cloud-datastore, google-cloud-dns, proto-google-cloud-logging-v2, gapic-google-cloud-logging-v2, google-cloud-logging, proto-google-cloud-error-reporting-v1beta1, gapic-google-cloud-error-reporting-v1beta1, google-cloud-error-reporting, google-cloud-firestore, google-cloud-monitoring, grpc-google-iam-v1, google-cloud-pubsub, google-cloud-resource-manager, google-cloud-runtimeconfig, google-cloud-spanner, google-cloud-speech, google-cloud-storage, google-cloud-trace, google-cloud-videointelligence, google-cloud-vision, google-cloud, pandas-profiling, datalab\n",
            "  Found existing installation: six 1.11.0\n",
            "    Uninstalling six-1.11.0:\n",
            "      Successfully uninstalled six-1.11.0\n",
            "  Found existing installation: google-api-core 1.2.0\n",
            "    Uninstalling google-api-core-1.2.0:\n",
            "      Successfully uninstalled google-api-core-1.2.0\n",
            "  Found existing installation: google-cloud-bigquery 1.1.0\n",
            "    Uninstalling google-cloud-bigquery-1.1.0:\n",
            "      Successfully uninstalled google-cloud-bigquery-1.1.0\n",
            "  Found existing installation: google-cloud-storage 1.8.0\n",
            "    Uninstalling google-cloud-storage-1.8.0:\n",
            "      Successfully uninstalled google-cloud-storage-1.8.0\n",
            "Successfully installed datalab-1.1.3 dill-0.2.7.1 gapic-google-cloud-datastore-v1-0.15.3 gapic-google-cloud-error-reporting-v1beta1-0.15.3 gapic-google-cloud-logging-v2-0.91.3 google-api-core-0.1.4 google-cloud-0.33.1 google-cloud-bigquery-0.28.0 google-cloud-bigquery-datatransfer-0.1.1 google-cloud-bigtable-0.28.1 google-cloud-container-0.1.1 google-cloud-datastore-1.4.0 google-cloud-dns-0.28.0 google-cloud-error-reporting-0.28.0 google-cloud-firestore-0.28.0 google-cloud-logging-1.4.0 google-cloud-monitoring-0.28.1 google-cloud-pubsub-0.30.1 google-cloud-resource-manager-0.28.1 google-cloud-runtimeconfig-0.28.1 google-cloud-spanner-0.29.0 google-cloud-speech-0.30.0 google-cloud-storage-1.6.0 google-cloud-trace-0.17.0 google-cloud-videointelligence-1.0.1 google-cloud-vision-0.29.0 google-gax-0.15.16 grpc-google-iam-v1-0.11.4 pandas-profiling-1.4.1 ply-3.8 proto-google-cloud-datastore-v1-0.90.4 proto-google-cloud-error-reporting-v1beta1-0.15.3 proto-google-cloud-logging-v2-0.91.3 six-1.10.0\n"
          ],
          "name": "stdout"
        }
      ]
    },
    {
      "metadata": {
        "id": "Y4l8ab9sPKKN",
        "colab_type": "code",
        "colab": {}
      },
      "cell_type": "code",
      "source": [
        "import pandas as pd\n",
        "from pandas.tools.plotting import autocorrelation_plot\n",
        "from pandas.tools.plotting import scatter_matrix\n",
        "\n",
        "import numpy as np\n",
        "\n",
        "import matplotlib.pyplot as plt\n",
        "\n",
        "import google.datalab.bigquery as bq\n",
        "\n",
        "import tensorflow as tf"
      ],
      "execution_count": 0,
      "outputs": []
    },
    {
      "metadata": {
        "id": "0TGiWJhfVemN",
        "colab_type": "code",
        "colab": {}
      },
      "cell_type": "code",
      "source": [
        "from google.colab import auth\n",
        "auth.authenticate_user()"
      ],
      "execution_count": 0,
      "outputs": []
    },
    {
      "metadata": {
        "id": "S1nysZelU20j",
        "colab_type": "code",
        "colab": {}
      },
      "cell_type": "code",
      "source": [
        "# %datalab project set -p <sv-ml-sandbox>\n",
        "\n",
        "\n",
        "project_id = 'sv-ml-sandbox'"
      ],
      "execution_count": 0,
      "outputs": []
    },
    {
      "metadata": {
        "id": "bpQ87Nk5THfF",
        "colab_type": "code",
        "colab": {
          "base_uri": "https://localhost:8080/",
          "height": 80
        },
        "outputId": "4072fa1d-9936-41ee-be74-03137475823a"
      },
      "cell_type": "code",
      "source": [
        "%%bigquery --project sv-ml-sandbox df\n",
        "SELECT \n",
        "  COUNT(*) as total_rows\n",
        "FROM `bigquery-public-data.samples.gsod`"
      ],
      "execution_count": 21,
      "outputs": [
        {
          "output_type": "execute_result",
          "data": {
            "text/html": [
              "<div>\n",
              "<style scoped>\n",
              "    .dataframe tbody tr th:only-of-type {\n",
              "        vertical-align: middle;\n",
              "    }\n",
              "\n",
              "    .dataframe tbody tr th {\n",
              "        vertical-align: top;\n",
              "    }\n",
              "\n",
              "    .dataframe thead th {\n",
              "        text-align: right;\n",
              "    }\n",
              "</style>\n",
              "<table border=\"1\" class=\"dataframe\">\n",
              "  <thead>\n",
              "    <tr style=\"text-align: right;\">\n",
              "      <th></th>\n",
              "      <th>total_rows</th>\n",
              "    </tr>\n",
              "  </thead>\n",
              "  <tbody>\n",
              "    <tr>\n",
              "      <th>0</th>\n",
              "      <td>114420316</td>\n",
              "    </tr>\n",
              "  </tbody>\n",
              "</table>\n",
              "</div>"
            ],
            "text/plain": [
              "   total_rows\n",
              "0   114420316"
            ]
          },
          "metadata": {
            "tags": []
          },
          "execution_count": 21
        }
      ]
    },
    {
      "metadata": {
        "id": "igepPS30W12w",
        "colab_type": "code",
        "colab": {
          "base_uri": "https://localhost:8080/",
          "height": 35
        },
        "outputId": "9f880868-45be-4ec0-e357-469a129abb60"
      },
      "cell_type": "code",
      "source": [
        "from google.cloud import bigquery as bq\n",
        "\n",
        "client = bigquery.Client(project=project_id)\n",
        "\n",
        "for dataset in client.list_datasets():\n",
        "  print(dataset.dataset_id)"
      ],
      "execution_count": 29,
      "outputs": [
        {
          "output_type": "stream",
          "text": [
            "twitter_nlp\n"
          ],
          "name": "stdout"
        }
      ]
    },
    {
      "metadata": {
        "id": "6OfTQ2_8PWEY",
        "colab_type": "code",
        "colab": {
          "base_uri": "https://localhost:8080/",
          "height": 244
        },
        "outputId": "181b6440-2ba4-442f-c2c5-842a4a145b35"
      },
      "cell_type": "code",
      "source": [
        "client = bigquery.Client(project=project_id)\n",
        "\n",
        "snp1=pd.io.gbq.read_gbq ('bingo-ml-1.market_data.snp'), fields=['Date', 'Close']).execute().result().to_dataframe().set_index('Date')\n",
        "\n",
        "snp = bq.Query.from_table(bq.Table('bingo-ml-1.market_data.snp'), fields=['Date', 'Close']).execute().result().to_dataframe().set_index('Date')\n",
        "nyse = bq.Query.from_table(bq.Table('bingo-ml-1.market_data.nyse'), fields=['Date', 'Close']).execute().result().to_dataframe().set_index('Date')\n",
        "djia = bq.Query.from_table(bq.Table('bingo-ml-1.market_data.djia'), fields=['Date', 'Close']).execute().result().to_dataframe().set_index('Date')\n",
        "nikkei = bq.Query.from_table(bq.Table('bingo-ml-1.market_data.nikkei'), fields=['Date', 'Close']).execute().result().to_dataframe().set_index('Date')\n",
        "hangseng = bq.Query.from_table(bq.Table('bingo-ml-1.market_data.hangseng'), fields=['Date', 'Close']).execute().result().to_dataframe().set_index('Date')\n",
        "ftse = bq.Query.from_table(bq.Table('bingo-ml-1.market_data.ftse'), fields=['Date', 'Close']).execute().result().to_dataframe().set_index('Date')\n",
        "dax = bq.Query.from_table(bq.Table('bingo-ml-1.market_data.dax'), fields=['Date', 'Close']).execute().result().to_dataframe().set_index('Date')\n",
        "aord = bq.Query.from_table(bq.Table('bingo-ml-1.market_data.aord'), fields=['Date', 'Close']).execute().result().to_dataframe().set_index('Date')"
      ],
      "execution_count": 30,
      "outputs": [
        {
          "output_type": "error",
          "ename": "AttributeError",
          "evalue": "ignored",
          "traceback": [
            "\u001b[0;31m\u001b[0m",
            "\u001b[0;31mAttributeError\u001b[0mTraceback (most recent call last)",
            "\u001b[0;32m<ipython-input-30-16b2ba04d312>\u001b[0m in \u001b[0;36m<module>\u001b[0;34m()\u001b[0m\n\u001b[1;32m      1\u001b[0m \u001b[0mclient\u001b[0m \u001b[0;34m=\u001b[0m \u001b[0mbigquery\u001b[0m\u001b[0;34m.\u001b[0m\u001b[0mClient\u001b[0m\u001b[0;34m(\u001b[0m\u001b[0mproject\u001b[0m\u001b[0;34m=\u001b[0m\u001b[0mproject_id\u001b[0m\u001b[0;34m)\u001b[0m\u001b[0;34m\u001b[0m\u001b[0m\n\u001b[1;32m      2\u001b[0m \u001b[0;34m\u001b[0m\u001b[0m\n\u001b[0;32m----> 3\u001b[0;31m \u001b[0msnp\u001b[0m \u001b[0;34m=\u001b[0m \u001b[0mbq\u001b[0m\u001b[0;34m.\u001b[0m\u001b[0mQuery\u001b[0m\u001b[0;34m.\u001b[0m\u001b[0mfrom_table\u001b[0m\u001b[0;34m(\u001b[0m\u001b[0mbq\u001b[0m\u001b[0;34m.\u001b[0m\u001b[0mTable\u001b[0m\u001b[0;34m(\u001b[0m\u001b[0;34m'bingo-ml-1.market_data.snp'\u001b[0m\u001b[0;34m)\u001b[0m\u001b[0;34m,\u001b[0m \u001b[0mfields\u001b[0m\u001b[0;34m=\u001b[0m\u001b[0;34m[\u001b[0m\u001b[0;34m'Date'\u001b[0m\u001b[0;34m,\u001b[0m \u001b[0;34m'Close'\u001b[0m\u001b[0;34m]\u001b[0m\u001b[0;34m)\u001b[0m\u001b[0;34m.\u001b[0m\u001b[0mexecute\u001b[0m\u001b[0;34m(\u001b[0m\u001b[0;34m)\u001b[0m\u001b[0;34m.\u001b[0m\u001b[0mresult\u001b[0m\u001b[0;34m(\u001b[0m\u001b[0;34m)\u001b[0m\u001b[0;34m.\u001b[0m\u001b[0mto_dataframe\u001b[0m\u001b[0;34m(\u001b[0m\u001b[0;34m)\u001b[0m\u001b[0;34m.\u001b[0m\u001b[0mset_index\u001b[0m\u001b[0;34m(\u001b[0m\u001b[0;34m'Date'\u001b[0m\u001b[0;34m)\u001b[0m\u001b[0;34m\u001b[0m\u001b[0m\n\u001b[0m\u001b[1;32m      4\u001b[0m \u001b[0mnyse\u001b[0m \u001b[0;34m=\u001b[0m \u001b[0mbq\u001b[0m\u001b[0;34m.\u001b[0m\u001b[0mQuery\u001b[0m\u001b[0;34m.\u001b[0m\u001b[0mfrom_table\u001b[0m\u001b[0;34m(\u001b[0m\u001b[0mbq\u001b[0m\u001b[0;34m.\u001b[0m\u001b[0mTable\u001b[0m\u001b[0;34m(\u001b[0m\u001b[0;34m'bingo-ml-1.market_data.nyse'\u001b[0m\u001b[0;34m)\u001b[0m\u001b[0;34m,\u001b[0m \u001b[0mfields\u001b[0m\u001b[0;34m=\u001b[0m\u001b[0;34m[\u001b[0m\u001b[0;34m'Date'\u001b[0m\u001b[0;34m,\u001b[0m \u001b[0;34m'Close'\u001b[0m\u001b[0;34m]\u001b[0m\u001b[0;34m)\u001b[0m\u001b[0;34m.\u001b[0m\u001b[0mexecute\u001b[0m\u001b[0;34m(\u001b[0m\u001b[0;34m)\u001b[0m\u001b[0;34m.\u001b[0m\u001b[0mresult\u001b[0m\u001b[0;34m(\u001b[0m\u001b[0;34m)\u001b[0m\u001b[0;34m.\u001b[0m\u001b[0mto_dataframe\u001b[0m\u001b[0;34m(\u001b[0m\u001b[0;34m)\u001b[0m\u001b[0;34m.\u001b[0m\u001b[0mset_index\u001b[0m\u001b[0;34m(\u001b[0m\u001b[0;34m'Date'\u001b[0m\u001b[0;34m)\u001b[0m\u001b[0;34m\u001b[0m\u001b[0m\n\u001b[1;32m      5\u001b[0m \u001b[0mdjia\u001b[0m \u001b[0;34m=\u001b[0m \u001b[0mbq\u001b[0m\u001b[0;34m.\u001b[0m\u001b[0mQuery\u001b[0m\u001b[0;34m.\u001b[0m\u001b[0mfrom_table\u001b[0m\u001b[0;34m(\u001b[0m\u001b[0mbq\u001b[0m\u001b[0;34m.\u001b[0m\u001b[0mTable\u001b[0m\u001b[0;34m(\u001b[0m\u001b[0;34m'bingo-ml-1.market_data.djia'\u001b[0m\u001b[0;34m)\u001b[0m\u001b[0;34m,\u001b[0m \u001b[0mfields\u001b[0m\u001b[0;34m=\u001b[0m\u001b[0;34m[\u001b[0m\u001b[0;34m'Date'\u001b[0m\u001b[0;34m,\u001b[0m \u001b[0;34m'Close'\u001b[0m\u001b[0;34m]\u001b[0m\u001b[0;34m)\u001b[0m\u001b[0;34m.\u001b[0m\u001b[0mexecute\u001b[0m\u001b[0;34m(\u001b[0m\u001b[0;34m)\u001b[0m\u001b[0;34m.\u001b[0m\u001b[0mresult\u001b[0m\u001b[0;34m(\u001b[0m\u001b[0;34m)\u001b[0m\u001b[0;34m.\u001b[0m\u001b[0mto_dataframe\u001b[0m\u001b[0;34m(\u001b[0m\u001b[0;34m)\u001b[0m\u001b[0;34m.\u001b[0m\u001b[0mset_index\u001b[0m\u001b[0;34m(\u001b[0m\u001b[0;34m'Date'\u001b[0m\u001b[0;34m)\u001b[0m\u001b[0;34m\u001b[0m\u001b[0m\n",
            "\u001b[0;31mAttributeError\u001b[0m: 'module' object has no attribute 'Query'"
          ]
        }
      ]
    },
    {
      "metadata": {
        "id": "6XzSnLuIXQKv",
        "colab_type": "code",
        "colab": {
          "base_uri": "https://localhost:8080/",
          "height": 840
        },
        "outputId": "13dde2b5-6403-4be1-8f26-d0fc97bb15b2"
      },
      "cell_type": "code",
      "source": [
        "client = bigquery.Client(project=project_id)\n",
        "\n",
        "sample_count = 200\n",
        "row_count = 200\n",
        "\n",
        "\n",
        "snp1=pd.io.gbq.read_gbq ('''\n",
        "SELECT \n",
        "    COUNT(*) as total\n",
        "  FROM [bigquery-public-data:samples.gsod]''', project_id=project_id, verbose=False).total[0]\n",
        "\n",
        "\n",
        "\n",
        "\n",
        "df = pd.io.gbq.read_gbq('''\n",
        "  SELECT\n",
        "    *\n",
        "  FROM\n",
        "    [bigquery-public-data:samples.gsod]\n",
        "  WHERE RAND() < %d/%d\n",
        "''' % (sample_count, row_count), project_id=project_id, verbose=False)\n",
        "\n",
        "print('Full dataset has %d rows' % row_count)"
      ],
      "execution_count": 37,
      "outputs": [
        {
          "output_type": "stream",
          "text": [
            "ERROR:root:An unexpected error occurred while tokenizing input\n",
            "The following traceback may be corrupted or invalid\n",
            "The error message is: ('EOF in multi-line string', (1, 0))\n",
            "\n"
          ],
          "name": "stderr"
        },
        {
          "output_type": "error",
          "ename": "GenericGBQException",
          "evalue": "ignored",
          "traceback": [
            "\u001b[0;31m\u001b[0m",
            "\u001b[0;31mGenericGBQException\u001b[0mTraceback (most recent call last)",
            "\u001b[0;32m<ipython-input-37-7b6a6c91e7d0>\u001b[0m in \u001b[0;36m<module>\u001b[0;34m()\u001b[0m\n\u001b[1;32m     19\u001b[0m     \u001b[0;34m[\u001b[0m\u001b[0mbigquery\u001b[0m\u001b[0;34m-\u001b[0m\u001b[0mpublic\u001b[0m\u001b[0;34m-\u001b[0m\u001b[0mdata\u001b[0m\u001b[0;34m:\u001b[0m\u001b[0msamples\u001b[0m\u001b[0;34m.\u001b[0m\u001b[0mgsod\u001b[0m\u001b[0;34m]\u001b[0m\u001b[0;34m\u001b[0m\u001b[0m\n\u001b[1;32m     20\u001b[0m   \u001b[0mWHERE\u001b[0m \u001b[0mRAND\u001b[0m\u001b[0;34m(\u001b[0m\u001b[0;34m)\u001b[0m \u001b[0;34m<\u001b[0m \u001b[0;34m%\u001b[0m\u001b[0md\u001b[0m\u001b[0;34m/\u001b[0m\u001b[0;34m%\u001b[0m\u001b[0md\u001b[0m\u001b[0;34m\u001b[0m\u001b[0m\n\u001b[0;32m---> 21\u001b[0;31m ''' % (sample_count, row_count), project_id=project_id, verbose=False)\n\u001b[0m\u001b[1;32m     22\u001b[0m \u001b[0;34m\u001b[0m\u001b[0m\n\u001b[1;32m     23\u001b[0m \u001b[0;32mprint\u001b[0m\u001b[0;34m(\u001b[0m\u001b[0;34m'Full dataset has %d rows'\u001b[0m \u001b[0;34m%\u001b[0m \u001b[0mrow_count\u001b[0m\u001b[0;34m)\u001b[0m\u001b[0;34m\u001b[0m\u001b[0m\n",
            "\u001b[0;32m/usr/local/lib/python2.7/dist-packages/pandas/io/gbq.pyc\u001b[0m in \u001b[0;36mread_gbq\u001b[0;34m(query, project_id, index_col, col_order, reauth, verbose, private_key, dialect, **kwargs)\u001b[0m\n\u001b[1;32m     97\u001b[0m         \u001b[0mprivate_key\u001b[0m\u001b[0;34m=\u001b[0m\u001b[0mprivate_key\u001b[0m\u001b[0;34m,\u001b[0m\u001b[0;34m\u001b[0m\u001b[0m\n\u001b[1;32m     98\u001b[0m         \u001b[0mdialect\u001b[0m\u001b[0;34m=\u001b[0m\u001b[0mdialect\u001b[0m\u001b[0;34m,\u001b[0m\u001b[0;34m\u001b[0m\u001b[0m\n\u001b[0;32m---> 99\u001b[0;31m         **kwargs)\n\u001b[0m\u001b[1;32m    100\u001b[0m \u001b[0;34m\u001b[0m\u001b[0m\n\u001b[1;32m    101\u001b[0m \u001b[0;34m\u001b[0m\u001b[0m\n",
            "\u001b[0;32m/usr/local/lib/python2.7/dist-packages/pandas_gbq/gbq.pyc\u001b[0m in \u001b[0;36mread_gbq\u001b[0;34m(query, project_id, index_col, col_order, reauth, verbose, private_key, auth_local_webserver, dialect, **kwargs)\u001b[0m\n\u001b[1;32m    819\u001b[0m         \u001b[0mproject_id\u001b[0m\u001b[0;34m,\u001b[0m \u001b[0mreauth\u001b[0m\u001b[0;34m=\u001b[0m\u001b[0mreauth\u001b[0m\u001b[0;34m,\u001b[0m \u001b[0mprivate_key\u001b[0m\u001b[0;34m=\u001b[0m\u001b[0mprivate_key\u001b[0m\u001b[0;34m,\u001b[0m\u001b[0;34m\u001b[0m\u001b[0m\n\u001b[1;32m    820\u001b[0m         dialect=dialect, auth_local_webserver=auth_local_webserver)\n\u001b[0;32m--> 821\u001b[0;31m     \u001b[0mschema\u001b[0m\u001b[0;34m,\u001b[0m \u001b[0mrows\u001b[0m \u001b[0;34m=\u001b[0m \u001b[0mconnector\u001b[0m\u001b[0;34m.\u001b[0m\u001b[0mrun_query\u001b[0m\u001b[0;34m(\u001b[0m\u001b[0mquery\u001b[0m\u001b[0;34m,\u001b[0m \u001b[0;34m**\u001b[0m\u001b[0mkwargs\u001b[0m\u001b[0;34m)\u001b[0m\u001b[0;34m\u001b[0m\u001b[0m\n\u001b[0m\u001b[1;32m    822\u001b[0m     \u001b[0mfinal_df\u001b[0m \u001b[0;34m=\u001b[0m \u001b[0m_parse_data\u001b[0m\u001b[0;34m(\u001b[0m\u001b[0mschema\u001b[0m\u001b[0;34m,\u001b[0m \u001b[0mrows\u001b[0m\u001b[0;34m)\u001b[0m\u001b[0;34m\u001b[0m\u001b[0m\n\u001b[1;32m    823\u001b[0m \u001b[0;34m\u001b[0m\u001b[0m\n",
            "\u001b[0;32m/usr/local/lib/python2.7/dist-packages/pandas_gbq/gbq.pyc\u001b[0m in \u001b[0;36mrun_query\u001b[0;34m(self, query, **kwargs)\u001b[0m\n\u001b[1;32m    520\u001b[0m                 \u001b[0;32mpass\u001b[0m\u001b[0;34m\u001b[0m\u001b[0m\n\u001b[1;32m    521\u001b[0m             \u001b[0;32mexcept\u001b[0m \u001b[0mself\u001b[0m\u001b[0;34m.\u001b[0m\u001b[0mhttp_error\u001b[0m \u001b[0;32mas\u001b[0m \u001b[0mex\u001b[0m\u001b[0;34m:\u001b[0m\u001b[0;34m\u001b[0m\u001b[0m\n\u001b[0;32m--> 522\u001b[0;31m                 \u001b[0mself\u001b[0m\u001b[0;34m.\u001b[0m\u001b[0mprocess_http_error\u001b[0m\u001b[0;34m(\u001b[0m\u001b[0mex\u001b[0m\u001b[0;34m)\u001b[0m\u001b[0;34m\u001b[0m\u001b[0m\n\u001b[0m\u001b[1;32m    523\u001b[0m \u001b[0;34m\u001b[0m\u001b[0m\n\u001b[1;32m    524\u001b[0m         \u001b[0;32mif\u001b[0m \u001b[0mquery_reply\u001b[0m\u001b[0;34m.\u001b[0m\u001b[0mcache_hit\u001b[0m\u001b[0;34m:\u001b[0m\u001b[0;34m\u001b[0m\u001b[0m\n",
            "\u001b[0;32m/usr/local/lib/python2.7/dist-packages/pandas_gbq/gbq.pyc\u001b[0m in \u001b[0;36mprocess_http_error\u001b[0;34m(ex)\u001b[0m\n\u001b[1;32m    454\u001b[0m         \u001b[0;31m# <https://cloud.google.com/bigquery/troubleshooting-errors>`__\u001b[0m\u001b[0;34m\u001b[0m\u001b[0;34m\u001b[0m\u001b[0m\n\u001b[1;32m    455\u001b[0m \u001b[0;34m\u001b[0m\u001b[0m\n\u001b[0;32m--> 456\u001b[0;31m         \u001b[0;32mraise\u001b[0m \u001b[0mGenericGBQException\u001b[0m\u001b[0;34m(\u001b[0m\u001b[0;34m\"Reason: {0}\"\u001b[0m\u001b[0;34m.\u001b[0m\u001b[0mformat\u001b[0m\u001b[0;34m(\u001b[0m\u001b[0mex\u001b[0m\u001b[0;34m)\u001b[0m\u001b[0;34m)\u001b[0m\u001b[0;34m\u001b[0m\u001b[0m\n\u001b[0m\u001b[1;32m    457\u001b[0m \u001b[0;34m\u001b[0m\u001b[0m\n\u001b[1;32m    458\u001b[0m     \u001b[0;32mdef\u001b[0m \u001b[0mrun_query\u001b[0m\u001b[0;34m(\u001b[0m\u001b[0mself\u001b[0m\u001b[0;34m,\u001b[0m \u001b[0mquery\u001b[0m\u001b[0;34m,\u001b[0m \u001b[0;34m**\u001b[0m\u001b[0mkwargs\u001b[0m\u001b[0;34m)\u001b[0m\u001b[0;34m:\u001b[0m\u001b[0;34m\u001b[0m\u001b[0m\n",
            "\u001b[0;31mGenericGBQException\u001b[0m: Reason: 403 GET https://www.googleapis.com/bigquery/v2/projects/sv-ml-sandbox/queries/7e1bd08e-921f-4f42-b42d-941f04a34c72?timeoutMs=900&maxResults=0: Response too large to return. Consider setting allowLargeResults to true in your job configuration. For more information, see https://cloud.google.com/bigquery/troubleshooting-errors"
          ]
        }
      ]
    },
    {
      "metadata": {
        "id": "Lnagk5-GZ6aU",
        "colab_type": "code",
        "colab": {
          "base_uri": "https://localhost:8080/",
          "height": 35
        },
        "outputId": "d58585a1-9492-455a-ba79-7c7224385cf9"
      },
      "cell_type": "code",
      "source": [
        "snp1.shape"
      ],
      "execution_count": 40,
      "outputs": [
        {
          "output_type": "execute_result",
          "data": {
            "text/plain": [
              "()"
            ]
          },
          "metadata": {
            "tags": []
          },
          "execution_count": 40
        }
      ]
    },
    {
      "metadata": {
        "id": "8F6K9SdBaAdC",
        "colab_type": "code",
        "colab": {}
      },
      "cell_type": "code",
      "source": [
        ""
      ],
      "execution_count": 0,
      "outputs": []
    }
  ]
}